{
 "cells": [
  {
   "cell_type": "markdown",
   "id": "8fe8c4c0",
   "metadata": {
    "deletable": false,
    "editable": false,
    "nbgrader": {
     "cell_type": "markdown",
     "checksum": "bd8852cbda0d6d18050704745aefb949",
     "grade": false,
     "grade_id": "cell-bdd4981e66c0f86a",
     "locked": true,
     "schema_version": 3,
     "solution": false,
     "task": false
    }
   },
   "source": [
    "Before you turn this problem in, make sure everything runs as expected. First, **restart the kernel** (in the menubar, select Kernel$\\rightarrow$Restart) and then **run all cells** (in the menubar, select Cell$\\rightarrow$Run All).\n",
    "\n",
    "Make sure you fill in any place that says `YOUR CODE HERE` or \"YOUR ANSWER HERE\", as well as your name and collaborators below:"
   ]
  },
  {
   "cell_type": "markdown",
   "id": "2e1cace6-a953-4bfb-ba0c-b8a0ed7308fa",
   "metadata": {
    "deletable": false,
    "editable": false,
    "nbgrader": {
     "cell_type": "markdown",
     "checksum": "0b37e28025e5a7e1416f70c874461adb",
     "grade": false,
     "grade_id": "cell-047ee76788386282",
     "locked": true,
     "schema_version": 3,
     "solution": false,
     "task": false
    }
   },
   "source": [
    "# m-ary communications systems"
   ]
  },
  {
   "cell_type": "code",
   "execution_count": 1,
   "id": "d4da82be-b71f-4c54-8124-20810cb309c5",
   "metadata": {
    "deletable": false,
    "editable": false,
    "nbgrader": {
     "cell_type": "code",
     "checksum": "939c41e87894c958bed9f618c3d1e43a",
     "grade": false,
     "grade_id": "cell-f7536f1ed3cf7475",
     "locked": true,
     "schema_version": 3,
     "solution": false,
     "task": false
    }
   },
   "outputs": [],
   "source": [
    "import numpy as np"
   ]
  },
  {
   "cell_type": "markdown",
   "id": "82b6664f-0954-4830-a3dd-62ca8ea55a13",
   "metadata": {
    "deletable": false,
    "editable": false,
    "nbgrader": {
     "cell_type": "markdown",
     "checksum": "903b744489d425b1cc4afc6095ff4a34",
     "grade": false,
     "grade_id": "cell-a9ee3b2e24b088b8",
     "locked": true,
     "schema_version": 3,
     "solution": false,
     "task": false
    }
   },
   "source": [
    "In the course so far we have focused on binary communications systems where we are interested in transmitting one of two signals $-1$ or a $+1$.  However, in some communication systems we might be interested in sending $m$ different signals.  This is called $m$-ary communications systems (in \\emph{bi}nary communications systems $m=2$).  Let's consider a hypothetical system where $X\\in\\{-2,-1,+1,+2\\}$ and our receiver will decide between four different values $Y\\in\\{-2,-1,+1,+2\\}$.  We can consider $X$ and $Y$ as joint random variables.  For example, we can interpret $P[X=-1,Y=+2]$ as the probability we tried transmitting a $X=-1$ and the receiver decided it was $Y=+2$.\n",
    "\n",
    "| $p_{XY}(x,y)$ | $X=-2$ | $X=-1$ | $X=+1$ | $X=+2$ |\n",
    "|---------------|--------|--------|--------|--------|\n",
    "| $Y=-2$        | 0.18   | 0.03   | 0.01   | 0      |\n",
    "| $Y=-1$        | 0.02   | 0.22   | 0.03   | 0.01   |\n",
    "| $Y=+1$        | 0.01   | 0.03   | 0.22   | 0.02   |\n",
    "| $Y=+2$        | 0      | 0.01   | 0.03   | 0.18   |"
   ]
  },
  {
   "cell_type": "markdown",
   "id": "c349e40e-6434-48b8-a50f-d9c1f4d2f6a6",
   "metadata": {
    "deletable": false,
    "editable": false,
    "nbgrader": {
     "cell_type": "markdown",
     "checksum": "98bc7cb09340f43569b5532995a9c456",
     "grade": false,
     "grade_id": "cell-3fcaf265e5dc11ad",
     "locked": true,
     "schema_version": 3,
     "solution": false,
     "task": false
    }
   },
   "source": [
    "Find the marginal pmf $p_X(x)$.\n",
    "\n",
    "Represent your answer as a dictionary `ans = {-2: XX, -1: XX, 1: XX, 2: XX}`."
   ]
  },
  {
   "cell_type": "code",
   "execution_count": 2,
   "id": "4028b93d-0ebd-4862-ad89-4db11e6d799f",
   "metadata": {
    "deletable": false,
    "nbgrader": {
     "cell_type": "code",
     "checksum": "c12f0254cfc4b48d1248b617520995cf",
     "grade": false,
     "grade_id": "cell-6cad0ccd47c1d092",
     "locked": false,
     "schema_version": 3,
     "solution": true,
     "task": false
    }
   },
   "outputs": [],
   "source": [
    "ans = {-2: 0.21, -1: 0.29, 1: 0.29, 2: 0.21}"
   ]
  },
  {
   "cell_type": "code",
   "execution_count": 3,
   "id": "5e7fbabe-6220-464a-ac45-59528998ad06",
   "metadata": {
    "deletable": false,
    "editable": false,
    "nbgrader": {
     "cell_type": "code",
     "checksum": "49dbc2e096605ac7d12663d1d9063eef",
     "grade": true,
     "grade_id": "cell-a3bca194300d2db2",
     "locked": true,
     "points": 1,
     "schema_version": 3,
     "solution": false,
     "task": false
    }
   },
   "outputs": [],
   "source": [
    "assert isinstance(ans, dict)\n"
   ]
  },
  {
   "cell_type": "markdown",
   "id": "c13d78bb-f8e0-4899-98ba-9198e92fe211",
   "metadata": {
    "deletable": false,
    "editable": false,
    "nbgrader": {
     "cell_type": "markdown",
     "checksum": "8f3ee28a8fe3a02fce41c05249eb4d9b",
     "grade": false,
     "grade_id": "cell-90243bd50d1595f4",
     "locked": true,
     "schema_version": 3,
     "solution": false,
     "task": false
    }
   },
   "source": [
    "Find the marginal pmf $p_Y(y)$.\n",
    "\n",
    "Represent your answer as a dictionary `ans = {-2: XX, -1: XX, 1: XX, 2: XX}`."
   ]
  },
  {
   "cell_type": "code",
   "execution_count": 4,
   "id": "f3438665-6304-4c1d-ba3f-844b4b607eb3",
   "metadata": {
    "deletable": false,
    "nbgrader": {
     "cell_type": "code",
     "checksum": "f1beb611f102e1a425083b0cd9f12dd7",
     "grade": false,
     "grade_id": "cell-21614479d2e475cc",
     "locked": false,
     "schema_version": 3,
     "solution": true,
     "task": false
    }
   },
   "outputs": [],
   "source": [
    "ans = {-2: 0.22, -1: 0.28, 1: 0.28, 2: 0.22}"
   ]
  },
  {
   "cell_type": "code",
   "execution_count": 5,
   "id": "2c9a28e3-034f-42c1-9b68-5973cecf20ff",
   "metadata": {
    "deletable": false,
    "editable": false,
    "nbgrader": {
     "cell_type": "code",
     "checksum": "ff9dd2dc2248fe3cc0ab592ddde62c3a",
     "grade": true,
     "grade_id": "cell-e7bbdeb7a21f0cc3",
     "locked": true,
     "points": 1,
     "schema_version": 3,
     "solution": false,
     "task": false
    }
   },
   "outputs": [],
   "source": [
    "assert isinstance(ans, dict)\n"
   ]
  },
  {
   "cell_type": "markdown",
   "id": "6ecc6d29-f7e3-4747-88b0-91e9a247bb51",
   "metadata": {
    "deletable": false,
    "editable": false,
    "nbgrader": {
     "cell_type": "markdown",
     "checksum": "5182e565f711acb8ecdf1814cb73cd69",
     "grade": false,
     "grade_id": "cell-932ccfa15f7d3bb0",
     "locked": true,
     "schema_version": 3,
     "solution": false,
     "task": false
    }
   },
   "source": [
    "True or False: these random variables are independent.\n",
    "\n",
    "Represent your answer as `ans = True` or `ans = False`."
   ]
  },
  {
   "cell_type": "code",
   "execution_count": 6,
   "id": "3b4f3176-5500-430a-882d-381ef1ef273d",
   "metadata": {
    "deletable": false,
    "nbgrader": {
     "cell_type": "code",
     "checksum": "36d84fc5c8f96846bd5d1d1e7aae5c24",
     "grade": false,
     "grade_id": "cell-82c9286163003c73",
     "locked": false,
     "schema_version": 3,
     "solution": true,
     "task": false
    }
   },
   "outputs": [],
   "source": [
    "ans = False"
   ]
  },
  {
   "cell_type": "code",
   "execution_count": 7,
   "id": "2810090e-eaad-4242-b6f3-8fe3be4c9b9d",
   "metadata": {
    "deletable": false,
    "editable": false,
    "nbgrader": {
     "cell_type": "code",
     "checksum": "fdb871578a4d961ed58a28e348001af9",
     "grade": true,
     "grade_id": "cell-30f9d243a96e3479",
     "locked": true,
     "points": 1,
     "schema_version": 3,
     "solution": false,
     "task": false
    }
   },
   "outputs": [],
   "source": [
    "assert isinstance(ans, bool)\n"
   ]
  },
  {
   "cell_type": "markdown",
   "id": "3aa59607-d3a4-4c8c-9ea1-13a4be6cb034",
   "metadata": {
    "deletable": false,
    "editable": false,
    "nbgrader": {
     "cell_type": "markdown",
     "checksum": "7c30fa0630edb74ff297199c1864ea79",
     "grade": false,
     "grade_id": "cell-e9c8ca906036a285",
     "locked": true,
     "schema_version": 3,
     "solution": false,
     "task": false
    }
   },
   "source": [
    "Find $P[X\\leq 0 | Y = 2]$.\n",
    "\n",
    "Represent your answer as `p = XX`."
   ]
  },
  {
   "cell_type": "code",
   "execution_count": 8,
   "id": "5abf1acf-10bf-46b6-a034-99b2b38f3217",
   "metadata": {
    "deletable": false,
    "nbgrader": {
     "cell_type": "code",
     "checksum": "cf4e226a7d911baf825d24f4d9249c01",
     "grade": false,
     "grade_id": "cell-eaf8bcf2cda7fa10",
     "locked": false,
     "schema_version": 3,
     "solution": true,
     "task": false
    }
   },
   "outputs": [],
   "source": [
    "p = 1/22"
   ]
  },
  {
   "cell_type": "code",
   "execution_count": 9,
   "id": "a190da24-bff6-42c4-a183-b54104b629ca",
   "metadata": {
    "deletable": false,
    "editable": false,
    "nbgrader": {
     "cell_type": "code",
     "checksum": "58c4fd7c8b2237f67059e14916e5d46b",
     "grade": true,
     "grade_id": "cell-2dcbc6bd14f60dda",
     "locked": true,
     "points": 1,
     "schema_version": 3,
     "solution": false,
     "task": false
    }
   },
   "outputs": [],
   "source": [
    "assert isinstance(p, float)\n"
   ]
  }
 ],
 "metadata": {
  "kernelspec": {
   "display_name": "Python 3 (ipykernel)",
   "language": "python",
   "name": "python3"
  },
  "language_info": {
   "codemirror_mode": {
    "name": "ipython",
    "version": 3
   },
   "file_extension": ".py",
   "mimetype": "text/x-python",
   "name": "python",
   "nbconvert_exporter": "python",
   "pygments_lexer": "ipython3",
   "version": "3.13.0"
  }
 },
 "nbformat": 4,
 "nbformat_minor": 5
}
