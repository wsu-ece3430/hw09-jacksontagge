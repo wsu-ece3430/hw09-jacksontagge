{
 "cells": [
  {
   "cell_type": "markdown",
   "id": "1f00b00b",
   "metadata": {
    "deletable": false,
    "editable": false,
    "nbgrader": {
     "cell_type": "markdown",
     "checksum": "bd8852cbda0d6d18050704745aefb949",
     "grade": false,
     "grade_id": "cell-bdd4981e66c0f86a",
     "locked": true,
     "schema_version": 3,
     "solution": false,
     "task": false
    }
   },
   "source": [
    "Before you turn this problem in, make sure everything runs as expected. First, **restart the kernel** (in the menubar, select Kernel$\\rightarrow$Restart) and then **run all cells** (in the menubar, select Cell$\\rightarrow$Run All).\n",
    "\n",
    "Make sure you fill in any place that says `YOUR CODE HERE` or \"YOUR ANSWER HERE\", as well as your name and collaborators below:"
   ]
  },
  {
   "cell_type": "markdown",
   "id": "aec90b7b-a0f9-43be-9ff3-b19b0c7dd8a7",
   "metadata": {
    "deletable": false,
    "editable": false,
    "nbgrader": {
     "cell_type": "markdown",
     "checksum": "057a426f8cb9f4e306ab440cbd459bde",
     "grade": false,
     "grade_id": "cell-99f0dac948f515f3",
     "locked": true,
     "schema_version": 3,
     "solution": false,
     "task": false
    }
   },
   "source": [
    "# Current through a resistor"
   ]
  },
  {
   "cell_type": "code",
   "execution_count": 1,
   "id": "39bab66b-fa71-4683-8f36-f7a5d6b59ad1",
   "metadata": {
    "deletable": false,
    "editable": false,
    "nbgrader": {
     "cell_type": "code",
     "checksum": "8b19f6fd834740c0b5d30bf7ba0f1062",
     "grade": false,
     "grade_id": "cell-981157c0fe41b367",
     "locked": true,
     "schema_version": 3,
     "solution": false,
     "task": false
    }
   },
   "outputs": [],
   "source": [
    "import numpy as np"
   ]
  },
  {
   "cell_type": "markdown",
   "id": "7dc41561-1cb6-4a6a-8419-4f0ffb54fde8",
   "metadata": {
    "deletable": false,
    "editable": false,
    "nbgrader": {
     "cell_type": "markdown",
     "checksum": "04233e16b8b80b1d4e4d856afb8a3f67",
     "grade": false,
     "grade_id": "cell-bda4c43924bea15c",
     "locked": true,
     "schema_version": 3,
     "solution": false,
     "task": false
    }
   },
   "source": [
    "Consider the circuit where currents $X$ and $Y$ in two branches flow into a single node and then into a single $10\\,\\Omega$ resistor.\n",
    "\n",
    "\n",
    "The currents in $X$ and $Y$ are independent random variables and their marginal probability density functions are given as:\n",
    "+ The current $X$ is a Gaussian random variable with mean 3A and the standard deviation of 0.5A.\n",
    "+ The current $Y$ has the marginal probability density function\n",
    "$$\n",
    "f_Y(y)=\n",
    "    \\begin{cases}\n",
    "      0.5 & 0\\,\\text{A} \\leq y \\leq 2\\,\\text{A}\\\\\n",
    "      0 & \\text{otherwise}\n",
    "    \\end{cases}\n",
    "$$\n"
   ]
  },
  {
   "cell_type": "markdown",
   "id": "671113ad-b119-45a4-a355-d9c69dcb3e1e",
   "metadata": {
    "deletable": false,
    "editable": false,
    "nbgrader": {
     "cell_type": "markdown",
     "checksum": "e9c00ee0d4fc9123fc8d8a587491bc41",
     "grade": false,
     "grade_id": "cell-8f5958df28523398",
     "locked": true,
     "schema_version": 3,
     "solution": false,
     "task": false
    }
   },
   "source": [
    "Find the probability that the current $X$ is larger than 3.83 A.\n",
    "\n",
    "Represent your answer as `p = XX`."
   ]
  },
  {
   "cell_type": "code",
   "execution_count": 2,
   "id": "80bc7d50-4ad3-48d4-9561-c889a8865134",
   "metadata": {
    "deletable": false,
    "nbgrader": {
     "cell_type": "code",
     "checksum": "bc0628b578e9ef3309672738be1802f6",
     "grade": false,
     "grade_id": "cell-ec2faf494a0e069b",
     "locked": false,
     "schema_version": 3,
     "solution": true,
     "task": false
    }
   },
   "outputs": [],
   "source": [
    "p = 0.0485"
   ]
  },
  {
   "cell_type": "code",
   "execution_count": 3,
   "id": "ed8f74b1-b25b-4982-b2e9-604d6f8af59d",
   "metadata": {
    "deletable": false,
    "editable": false,
    "nbgrader": {
     "cell_type": "code",
     "checksum": "60e7a57c38e45edb27a64dd8c4fe8412",
     "grade": true,
     "grade_id": "cell-e326bd77e75571b3",
     "locked": true,
     "points": 1,
     "schema_version": 3,
     "solution": false,
     "task": false
    }
   },
   "outputs": [],
   "source": [
    "assert isinstance(p, float)\n"
   ]
  },
  {
   "cell_type": "markdown",
   "id": "da7d4216-bdeb-4ddc-9871-eaa4b9de4bc8",
   "metadata": {
    "deletable": false,
    "editable": false,
    "nbgrader": {
     "cell_type": "markdown",
     "checksum": "e69b9fe3e7763de6a8c383700fd1e9a9",
     "grade": false,
     "grade_id": "cell-414a39cff67fb619",
     "locked": true,
     "schema_version": 3,
     "solution": false,
     "task": false
    }
   },
   "source": [
    "Find the second moment of $X$, $E[X^2]$.\n",
    "\n",
    "Represent your answer as `ans = XX`."
   ]
  },
  {
   "cell_type": "code",
   "execution_count": 4,
   "id": "423a6a06-1c7f-4955-a02b-1b906ec2d618",
   "metadata": {
    "deletable": false,
    "nbgrader": {
     "cell_type": "code",
     "checksum": "2e27a7fee4ac96d229f44feff5fe57ed",
     "grade": false,
     "grade_id": "cell-7b060be93ba7990b",
     "locked": false,
     "schema_version": 3,
     "solution": true,
     "task": false
    }
   },
   "outputs": [],
   "source": [
    "ans = 9.25"
   ]
  },
  {
   "cell_type": "code",
   "execution_count": 5,
   "id": "ce780f6b-83de-4f4c-845f-bcb5a1e4e72e",
   "metadata": {
    "deletable": false,
    "editable": false,
    "nbgrader": {
     "cell_type": "code",
     "checksum": "f45de80573d3c11467fe11cbd4be5252",
     "grade": true,
     "grade_id": "cell-ed945f320ec84d1b",
     "locked": true,
     "points": 1,
     "schema_version": 3,
     "solution": false,
     "task": false
    }
   },
   "outputs": [],
   "source": [
    "assert isinstance(ans, float)\n"
   ]
  },
  {
   "cell_type": "markdown",
   "id": "0bc0531a-727c-4e75-9c1c-f995d58cd783",
   "metadata": {
    "deletable": false,
    "editable": false,
    "nbgrader": {
     "cell_type": "markdown",
     "checksum": "260298f4fa5bf3f5f714492738166ff5",
     "grade": false,
     "grade_id": "cell-fd8dd96106b64141",
     "locked": true,
     "schema_version": 3,
     "solution": false,
     "task": false
    }
   },
   "source": [
    "Find the second moment of $Y$, $E[Y^2]$.\n",
    "\n",
    "Represent your answer as `ans = XX`."
   ]
  },
  {
   "cell_type": "code",
   "execution_count": 6,
   "id": "1b5ccf11-28f3-45d4-aff7-098fe42e6bc3",
   "metadata": {
    "deletable": false,
    "nbgrader": {
     "cell_type": "code",
     "checksum": "575074907bbb18f1a4dc12ef98699451",
     "grade": false,
     "grade_id": "cell-49a5d89c1efae188",
     "locked": false,
     "schema_version": 3,
     "solution": true,
     "task": false
    }
   },
   "outputs": [],
   "source": [
    "ans = 4/3"
   ]
  },
  {
   "cell_type": "code",
   "execution_count": 7,
   "id": "a40bc45a-066f-488d-a891-eff292f7d8cc",
   "metadata": {
    "deletable": false,
    "editable": false,
    "nbgrader": {
     "cell_type": "code",
     "checksum": "885c4b7f48787f915cca13363602a380",
     "grade": true,
     "grade_id": "cell-cf535f1047779c92",
     "locked": true,
     "points": 1,
     "schema_version": 3,
     "solution": false,
     "task": false
    }
   },
   "outputs": [],
   "source": [
    "assert isinstance(ans, float)\n"
   ]
  },
  {
   "cell_type": "markdown",
   "id": "d2b2e79c-78f9-4948-a177-ae994414d730",
   "metadata": {
    "deletable": false,
    "editable": false,
    "nbgrader": {
     "cell_type": "markdown",
     "checksum": "8c9d64d41d608ab492ce34322dc1a62a",
     "grade": false,
     "grade_id": "cell-8a00168535ec0af8",
     "locked": true,
     "schema_version": 3,
     "solution": false,
     "task": false
    }
   },
   "source": [
    "Find the correlation of $X$ and $Y$, $E[XY]$.\n",
    "\n",
    "Represent your answer as `ans = XX`."
   ]
  },
  {
   "cell_type": "code",
   "execution_count": 8,
   "id": "43fab9cd-9965-40bd-8741-0ede5ba0074b",
   "metadata": {
    "deletable": false,
    "nbgrader": {
     "cell_type": "code",
     "checksum": "d0493e8a5ef483174af95c21b13b151a",
     "grade": false,
     "grade_id": "cell-c20c2657b124f795",
     "locked": false,
     "schema_version": 3,
     "solution": true,
     "task": false
    }
   },
   "outputs": [],
   "source": [
    "ans = 3.0"
   ]
  },
  {
   "cell_type": "code",
   "execution_count": 9,
   "id": "9f8d3565-c875-474a-b092-9c93fe7d3a0d",
   "metadata": {
    "deletable": false,
    "editable": false,
    "nbgrader": {
     "cell_type": "code",
     "checksum": "8cc63d7decf257d6658655b765d48dc1",
     "grade": true,
     "grade_id": "cell-000f8779786513c8",
     "locked": true,
     "points": 1,
     "schema_version": 3,
     "solution": false,
     "task": false
    }
   },
   "outputs": [],
   "source": [
    "assert isinstance(ans, float)\n"
   ]
  },
  {
   "cell_type": "markdown",
   "id": "2b2f8e00-f7d8-48a3-b86c-3c45f124b72b",
   "metadata": {
    "deletable": false,
    "editable": false,
    "nbgrader": {
     "cell_type": "markdown",
     "checksum": "1b86227f14c97026f987e4515ae9b4f6",
     "grade": false,
     "grade_id": "cell-029c0339e913608e",
     "locked": true,
     "schema_version": 3,
     "solution": false,
     "task": false
    }
   },
   "source": [
    "The sum of two currents $X+Y$ flow into a $10\\,\\Omega$ resistor.  The power dissipated over the resistor is then $10(X+Y)^2$.  Find the average power dissipated over the resistor."
   ]
  },
  {
   "cell_type": "code",
   "execution_count": 10,
   "id": "4ffd8ce8-ce4c-4486-b761-014bd3b045cf",
   "metadata": {
    "deletable": false,
    "nbgrader": {
     "cell_type": "code",
     "checksum": "37ae1146ddcd20988a0b7f04a51b8367",
     "grade": false,
     "grade_id": "cell-edc5f414b2194293",
     "locked": false,
     "schema_version": 3,
     "solution": true,
     "task": false
    }
   },
   "outputs": [],
   "source": [
    "ans = 165.83"
   ]
  },
  {
   "cell_type": "code",
   "execution_count": 11,
   "id": "552b2d74-338c-4b45-8883-0e35175f3126",
   "metadata": {
    "deletable": false,
    "editable": false,
    "nbgrader": {
     "cell_type": "code",
     "checksum": "cfbd3d1f841a89977dfd62dacc772390",
     "grade": true,
     "grade_id": "cell-d25097fa02e18ff3",
     "locked": true,
     "points": 1,
     "schema_version": 3,
     "solution": false,
     "task": false
    }
   },
   "outputs": [],
   "source": [
    "assert isinstance(ans, float)\n"
   ]
  }
 ],
 "metadata": {
  "kernelspec": {
   "display_name": "Python 3 (ipykernel)",
   "language": "python",
   "name": "python3"
  },
  "language_info": {
   "codemirror_mode": {
    "name": "ipython",
    "version": 3
   },
   "file_extension": ".py",
   "mimetype": "text/x-python",
   "name": "python",
   "nbconvert_exporter": "python",
   "pygments_lexer": "ipython3",
   "version": "3.13.0"
  }
 },
 "nbformat": 4,
 "nbformat_minor": 5
}
