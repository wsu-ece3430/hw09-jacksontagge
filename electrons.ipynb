{
 "cells": [
  {
   "cell_type": "markdown",
   "id": "ad0b6527",
   "metadata": {
    "deletable": false,
    "editable": false,
    "nbgrader": {
     "cell_type": "markdown",
     "checksum": "bd8852cbda0d6d18050704745aefb949",
     "grade": false,
     "grade_id": "cell-bdd4981e66c0f86a",
     "locked": true,
     "schema_version": 3,
     "solution": false,
     "task": false
    }
   },
   "source": [
    "Before you turn this problem in, make sure everything runs as expected. First, **restart the kernel** (in the menubar, select Kernel$\\rightarrow$Restart) and then **run all cells** (in the menubar, select Cell$\\rightarrow$Run All).\n",
    "\n",
    "Make sure you fill in any place that says `YOUR CODE HERE` or \"YOUR ANSWER HERE\", as well as your name and collaborators below:"
   ]
  },
  {
   "cell_type": "markdown",
   "id": "a3cae4e1-e775-4cda-b8b8-e9154b0d154e",
   "metadata": {
    "deletable": false,
    "editable": false,
    "nbgrader": {
     "cell_type": "markdown",
     "checksum": "0bddf71bffee6adf64cf91589b8de22f",
     "grade": false,
     "grade_id": "cell-fc57e0c195908567",
     "locked": true,
     "schema_version": 3,
     "solution": false,
     "task": false
    }
   },
   "source": [
    "# Electrons"
   ]
  },
  {
   "cell_type": "code",
   "execution_count": 1,
   "id": "b4e48b43-aa28-430b-afa6-e914d7549174",
   "metadata": {
    "deletable": false,
    "editable": false,
    "nbgrader": {
     "cell_type": "code",
     "checksum": "fa42893860befb38fa95f32fa9de0f7c",
     "grade": false,
     "grade_id": "cell-e1918118613686fc",
     "locked": true,
     "schema_version": 3,
     "solution": false,
     "task": false
    }
   },
   "outputs": [],
   "source": [
    "import numpy as np"
   ]
  },
  {
   "cell_type": "markdown",
   "id": "daad0b56-1fda-4bcf-b22f-7978abe1fc29",
   "metadata": {
    "deletable": false,
    "editable": false,
    "nbgrader": {
     "cell_type": "markdown",
     "checksum": "c4ecd2ac343f35ed0c02e7eed87b8a96",
     "grade": false,
     "grade_id": "cell-daec0210f10ba84d",
     "locked": true,
     "schema_version": 3,
     "solution": false,
     "task": false
    }
   },
   "source": [
    "An atom has two electrons. Each of the electrons can occupy one of the three orbits of this atom. Let the random variables $X$ and $Y$ denote the orbit number occupied by these two electrons. The joint probability distribution is given as\n",
    "\n",
    "$f_{XY}(x,y)$ | $X=1$ | $X=2$ | $X=3$\n",
    "--------------|-------|-------|-------\n",
    "$Y=1$         | 0     |  1/8  | 0\n",
    "$Y=2$         | 1/8   |  1/2  | 1/8\n",
    "$Y=3$         | 0     |  1/8  | 0\n"
   ]
  },
  {
   "cell_type": "markdown",
   "id": "d780144b-3b3f-4802-a2c1-ef5b7464232e",
   "metadata": {
    "deletable": false,
    "editable": false,
    "nbgrader": {
     "cell_type": "markdown",
     "checksum": "a6507abe3f15c5d1caf78012761bf1d4",
     "grade": false,
     "grade_id": "cell-ebb57fbabc842ce7",
     "locked": true,
     "schema_version": 3,
     "solution": false,
     "task": false
    }
   },
   "source": [
    "Find the marginal pmf $p_X(x)$.\n",
    "\n",
    "Represent your answer as a function `p_X(x)`."
   ]
  },
  {
   "cell_type": "code",
   "execution_count": 2,
   "id": "b946304c-aed6-47a3-a789-a18a91d503b6",
   "metadata": {
    "deletable": false,
    "nbgrader": {
     "cell_type": "code",
     "checksum": "3b20f446beb3ba52f7091ff4f034d6b6",
     "grade": false,
     "grade_id": "cell-f130733abe6c9daf",
     "locked": false,
     "schema_version": 3,
     "solution": true,
     "task": false
    }
   },
   "outputs": [],
   "source": [
    "def p_X(x):\n",
    "    if x == 1:\n",
    "        return 1/8\n",
    "    elif x == 2:\n",
    "        return 3/4\n",
    "    elif x == 3:\n",
    "        return 1/8\n",
    "    else:\n",
    "        return 0.0"
   ]
  },
  {
   "cell_type": "code",
   "execution_count": 3,
   "id": "6f789a8d-8697-4e4c-8486-eaf8c6795611",
   "metadata": {
    "deletable": false,
    "editable": false,
    "nbgrader": {
     "cell_type": "code",
     "checksum": "3a09cdeaf1fe162453dca7de39a89e6e",
     "grade": true,
     "grade_id": "cell-b30d501f8872800b",
     "locked": true,
     "points": 2,
     "schema_version": 3,
     "solution": false,
     "task": false
    }
   },
   "outputs": [],
   "source": [
    "assert isinstance(p_X(1), float)\n"
   ]
  },
  {
   "cell_type": "markdown",
   "id": "8125b423-b9a0-4e80-aa3c-c7011ff8c334",
   "metadata": {
    "deletable": false,
    "editable": false,
    "nbgrader": {
     "cell_type": "markdown",
     "checksum": "ec12d2bbda5d308d855f8fa82baa7cb0",
     "grade": false,
     "grade_id": "cell-aa9b139c4c8eaf7e",
     "locked": true,
     "schema_version": 3,
     "solution": false,
     "task": false
    }
   },
   "source": [
    "Find the marginal pmf $p_Y(y)$.\n",
    "\n",
    "Represent your answer as a function `p_Y(y)`."
   ]
  },
  {
   "cell_type": "code",
   "execution_count": 4,
   "id": "cc63f2ff-76a4-495e-af3c-9cd8888a715f",
   "metadata": {
    "deletable": false,
    "nbgrader": {
     "cell_type": "code",
     "checksum": "c6eca0d2d87fa2be70076294180ab05f",
     "grade": false,
     "grade_id": "cell-962fee63f3922fe6",
     "locked": false,
     "schema_version": 3,
     "solution": true,
     "task": false
    }
   },
   "outputs": [],
   "source": [
    "def p_Y(y):\n",
    "    if y == 1:\n",
    "        return 1/8\n",
    "    elif y == 2:\n",
    "        return 3/4\n",
    "    elif y == 3:\n",
    "        return 1/8\n",
    "    else:\n",
    "        return 0.0"
   ]
  },
  {
   "cell_type": "code",
   "execution_count": 5,
   "id": "15f88f4c-e93a-450a-97e0-3e4ce74417bf",
   "metadata": {
    "deletable": false,
    "editable": false,
    "nbgrader": {
     "cell_type": "code",
     "checksum": "3abb756cff8363fa5786a13f946ff40f",
     "grade": true,
     "grade_id": "cell-a56db365769053ee",
     "locked": true,
     "points": 2,
     "schema_version": 3,
     "solution": false,
     "task": false
    }
   },
   "outputs": [],
   "source": [
    "assert isinstance(p_Y(1), float)\n"
   ]
  },
  {
   "cell_type": "markdown",
   "id": "622b1547-6e1f-433d-aea9-c7514b57860c",
   "metadata": {
    "deletable": false,
    "editable": false,
    "nbgrader": {
     "cell_type": "markdown",
     "checksum": "cd7815ef540e433a0316b8feff594389",
     "grade": false,
     "grade_id": "cell-29bcb7f50805e5a3",
     "locked": true,
     "schema_version": 3,
     "solution": false,
     "task": false
    }
   },
   "source": [
    "True or false:  $X$ and $Y$ are independent.\n",
    "\n",
    "Respond with `ans = True` or `ans = False`."
   ]
  },
  {
   "cell_type": "code",
   "execution_count": 6,
   "id": "a4b08cac-a969-4970-ba2d-850d78f72380",
   "metadata": {
    "deletable": false,
    "nbgrader": {
     "cell_type": "code",
     "checksum": "7d1f67805e4c39e8f35563fd2ae373eb",
     "grade": false,
     "grade_id": "cell-fbb28642b26691e3",
     "locked": false,
     "schema_version": 3,
     "solution": true,
     "task": false
    }
   },
   "outputs": [],
   "source": [
    "ans = False"
   ]
  },
  {
   "cell_type": "code",
   "execution_count": 7,
   "id": "4f05662f-149e-41e8-a984-9cf65dad147c",
   "metadata": {
    "deletable": false,
    "editable": false,
    "nbgrader": {
     "cell_type": "code",
     "checksum": "672766385ae378e97934124230a75e86",
     "grade": true,
     "grade_id": "cell-b0da76172fbc9b41",
     "locked": true,
     "points": 1,
     "schema_version": 3,
     "solution": false,
     "task": false
    }
   },
   "outputs": [],
   "source": [
    "assert isinstance(ans, bool)\n"
   ]
  },
  {
   "cell_type": "markdown",
   "id": "4d81489d-ecb2-46fc-8507-260477dff68a",
   "metadata": {
    "deletable": false,
    "editable": false,
    "nbgrader": {
     "cell_type": "markdown",
     "checksum": "a2a0ef5dd95f4a0bae226b265323991f",
     "grade": false,
     "grade_id": "cell-81df146f2632bea2",
     "locked": true,
     "schema_version": 3,
     "solution": false,
     "task": false
    }
   },
   "source": [
    "Find $[X\\leq 2|Y=2]$. \n",
    "\n",
    "Represent your answer as `p = XX`."
   ]
  },
  {
   "cell_type": "code",
   "execution_count": 8,
   "id": "478111c1-8f3c-4980-9d52-17e346844e7a",
   "metadata": {
    "deletable": false,
    "nbgrader": {
     "cell_type": "code",
     "checksum": "0ccc7299c84f98b1e4876ebbe43c8c86",
     "grade": false,
     "grade_id": "cell-c6fa1517fd790cef",
     "locked": false,
     "schema_version": 3,
     "solution": true,
     "task": false
    }
   },
   "outputs": [],
   "source": [
    "p = 5/6"
   ]
  },
  {
   "cell_type": "code",
   "execution_count": 9,
   "id": "f1a7fc4b-0f31-4071-bff8-457971edc66b",
   "metadata": {
    "deletable": false,
    "editable": false,
    "nbgrader": {
     "cell_type": "code",
     "checksum": "a6f34d824ef9a9425e163ad7c5e63adc",
     "grade": true,
     "grade_id": "cell-8fd45902c98776c9",
     "locked": true,
     "points": 1,
     "schema_version": 3,
     "solution": false,
     "task": false
    }
   },
   "outputs": [],
   "source": [
    "assert isinstance(p, float)\n"
   ]
  }
 ],
 "metadata": {
  "kernelspec": {
   "display_name": "Python 3 (ipykernel)",
   "language": "python",
   "name": "python3"
  },
  "language_info": {
   "codemirror_mode": {
    "name": "ipython",
    "version": 3
   },
   "file_extension": ".py",
   "mimetype": "text/x-python",
   "name": "python",
   "nbconvert_exporter": "python",
   "pygments_lexer": "ipython3",
   "version": "3.13.0"
  }
 },
 "nbformat": 4,
 "nbformat_minor": 5
}
