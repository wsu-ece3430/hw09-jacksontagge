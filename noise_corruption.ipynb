{
 "cells": [
  {
   "cell_type": "markdown",
   "id": "c7646979",
   "metadata": {
    "deletable": false,
    "editable": false,
    "nbgrader": {
     "cell_type": "markdown",
     "checksum": "bd8852cbda0d6d18050704745aefb949",
     "grade": false,
     "grade_id": "cell-bdd4981e66c0f86a",
     "locked": true,
     "schema_version": 3,
     "solution": false,
     "task": false
    }
   },
   "source": [
    "Before you turn this problem in, make sure everything runs as expected. First, **restart the kernel** (in the menubar, select Kernel$\\rightarrow$Restart) and then **run all cells** (in the menubar, select Cell$\\rightarrow$Run All).\n",
    "\n",
    "Make sure you fill in any place that says `YOUR CODE HERE` or \"YOUR ANSWER HERE\", as well as your name and collaborators below:"
   ]
  },
  {
   "cell_type": "markdown",
   "id": "67fe08e0-3f86-4be6-bfa5-dba58bc857ae",
   "metadata": {
    "deletable": false,
    "editable": false,
    "nbgrader": {
     "cell_type": "markdown",
     "checksum": "1cdb46fd724d39b3df74747f7e90c62b",
     "grade": false,
     "grade_id": "cell-72c86df95c9008ed",
     "locked": true,
     "schema_version": 3,
     "solution": false,
     "task": false
    }
   },
   "source": [
    "# Noise in communications"
   ]
  },
  {
   "cell_type": "code",
   "execution_count": 1,
   "id": "8a2997ae-20f3-4595-893e-76bf08832889",
   "metadata": {
    "deletable": false,
    "editable": false,
    "nbgrader": {
     "cell_type": "code",
     "checksum": "1717b6a548598aee3ec0fb73aaf617e8",
     "grade": false,
     "grade_id": "cell-0b8d1361e66ff16f",
     "locked": true,
     "schema_version": 3,
     "solution": false,
     "task": false
    }
   },
   "outputs": [],
   "source": [
    "import numpy as np"
   ]
  },
  {
   "cell_type": "markdown",
   "id": "e579da37-4b73-4a4f-91d7-c68d53a93a94",
   "metadata": {
    "deletable": false,
    "editable": false,
    "nbgrader": {
     "cell_type": "markdown",
     "checksum": "f0c4d0e4ec745bc2de08f9195904aa6b",
     "grade": false,
     "grade_id": "cell-21db8d47cd606ddc",
     "locked": true,
     "schema_version": 3,
     "solution": false,
     "task": false
    }
   },
   "source": [
    "We often model a signal that is corrupted by noise as\n",
    "$$\n",
    "  Y = N + X.\n",
    "$$\n",
    "In this case, the noise $N$ is a Gaussian random variable with a zero mean and standard deviation of 0.5.  The signal $X$ is a binary signal where $P[X=+1]=0.4$ and $P[X=-1]=0.6$."
   ]
  },
  {
   "cell_type": "markdown",
   "id": "2b6bbb63-c139-43eb-ba10-9f8b3845aa54",
   "metadata": {
    "deletable": false,
    "editable": false,
    "nbgrader": {
     "cell_type": "markdown",
     "checksum": "09f6a0918421cb8cbbf4b0a7a0d8745a",
     "grade": false,
     "grade_id": "cell-f67d266c0b68def9",
     "locked": true,
     "schema_version": 3,
     "solution": false,
     "task": false
    }
   },
   "source": [
    "Find the first moment of $X$, $E[X]$.\n",
    "\n",
    "Represent your answer as `ans = XX`."
   ]
  },
  {
   "cell_type": "code",
   "execution_count": 2,
   "id": "714b105f-44c1-4557-b1ff-9d4027a9dc6f",
   "metadata": {
    "deletable": false,
    "nbgrader": {
     "cell_type": "code",
     "checksum": "69877d875ece758bbea8f086ebd798f3",
     "grade": false,
     "grade_id": "cell-1161fe476d2417bb",
     "locked": false,
     "schema_version": 3,
     "solution": true,
     "task": false
    }
   },
   "outputs": [],
   "source": [
    "ans = -0.2"
   ]
  },
  {
   "cell_type": "code",
   "execution_count": 3,
   "id": "3e839854-d810-4438-bf53-a87817aed1d0",
   "metadata": {
    "deletable": false,
    "editable": false,
    "nbgrader": {
     "cell_type": "code",
     "checksum": "19f2fec64601f1d3da8e696bda215135",
     "grade": true,
     "grade_id": "cell-1bccc0fb5d0dcf62",
     "locked": true,
     "points": 1,
     "schema_version": 3,
     "solution": false,
     "task": false
    }
   },
   "outputs": [],
   "source": [
    "assert isinstance(ans, float)\n"
   ]
  },
  {
   "cell_type": "markdown",
   "id": "69ad3a3f-0289-47d1-bbdb-cfee4603a6c0",
   "metadata": {
    "deletable": false,
    "editable": false,
    "nbgrader": {
     "cell_type": "markdown",
     "checksum": "58b10e40c7c4ed2f8bec9e7b49556054",
     "grade": false,
     "grade_id": "cell-59a6c72997d427cc",
     "locked": true,
     "schema_version": 3,
     "solution": false,
     "task": false
    }
   },
   "source": [
    "Find the first moment of $N$, $E[N]$.\n",
    "\n",
    "Represent your answer as `ans = XX`."
   ]
  },
  {
   "cell_type": "code",
   "execution_count": 4,
   "id": "dfc0f520-9dae-43a7-bf09-d9a1d522b30f",
   "metadata": {
    "deletable": false,
    "nbgrader": {
     "cell_type": "code",
     "checksum": "ddeb054bc55bf9827ee4aa2f73c6dcc1",
     "grade": false,
     "grade_id": "cell-edda2cba49b8b88a",
     "locked": false,
     "schema_version": 3,
     "solution": true,
     "task": false
    }
   },
   "outputs": [],
   "source": [
    "ans = 0.0"
   ]
  },
  {
   "cell_type": "code",
   "execution_count": 5,
   "id": "5643c50c-57ba-4659-9d65-5aa2e9275d25",
   "metadata": {
    "deletable": false,
    "editable": false,
    "nbgrader": {
     "cell_type": "code",
     "checksum": "df405bcc4f39ebb574e50bf62053fc0f",
     "grade": true,
     "grade_id": "cell-c2fef21baf16d151",
     "locked": true,
     "points": 1,
     "schema_version": 3,
     "solution": false,
     "task": false
    }
   },
   "outputs": [],
   "source": [
    "assert isinstance(ans, float)\n"
   ]
  },
  {
   "cell_type": "markdown",
   "id": "e8280e11-b0db-4592-897d-5c82111d7c93",
   "metadata": {
    "deletable": false,
    "editable": false,
    "nbgrader": {
     "cell_type": "markdown",
     "checksum": "d832add83dcd64110b811a3dbda13ef0",
     "grade": false,
     "grade_id": "cell-f6cba0bc30129b06",
     "locked": true,
     "schema_version": 3,
     "solution": false,
     "task": false
    }
   },
   "source": [
    "Assume that $X$ and $N$ are independent.  Find the correlation of $X$ and $N$, $E[XN]$.\n",
    "\n",
    "Represent your answer as `ans = XX`."
   ]
  },
  {
   "cell_type": "code",
   "execution_count": 6,
   "id": "55470a5b-1485-4d1e-8454-88cdc42edf25",
   "metadata": {
    "deletable": false,
    "nbgrader": {
     "cell_type": "code",
     "checksum": "539fdd641e89c7431fa7b1e50c6c28fc",
     "grade": false,
     "grade_id": "cell-d97f9e0552d21d19",
     "locked": false,
     "schema_version": 3,
     "solution": true,
     "task": false
    }
   },
   "outputs": [],
   "source": [
    "ans = 0.0"
   ]
  },
  {
   "cell_type": "code",
   "execution_count": 7,
   "id": "0ab9f690-6985-4344-b903-521e9bd58eac",
   "metadata": {
    "deletable": false,
    "editable": false,
    "nbgrader": {
     "cell_type": "code",
     "checksum": "012264934fb5c8854878c6c41c913745",
     "grade": true,
     "grade_id": "cell-60d6e3d8e39d838e",
     "locked": true,
     "points": 1,
     "schema_version": 3,
     "solution": false,
     "task": false
    }
   },
   "outputs": [],
   "source": [
    "assert isinstance(ans, float)\n"
   ]
  },
  {
   "cell_type": "markdown",
   "id": "5c0d188a-f884-40da-9ae3-368a83eb8719",
   "metadata": {
    "deletable": false,
    "editable": false,
    "nbgrader": {
     "cell_type": "markdown",
     "checksum": "726c5f21f49199cb74d1e8dba67eed26",
     "grade": false,
     "grade_id": "cell-97b9aca29081cefd",
     "locked": true,
     "schema_version": 3,
     "solution": false,
     "task": false
    }
   },
   "source": [
    "We are concerned that the total signal $Y=X+N$ will exceed system limits such that $|Y| > 1.5$.  What is the probability that $P[|Y| > 1.5]$?\n",
    "\n",
    "Represent your answer as `p = XX`."
   ]
  },
  {
   "cell_type": "code",
   "execution_count": 8,
   "id": "e33cfdc7-0494-46e9-9c40-214b927b7b3b",
   "metadata": {
    "deletable": false,
    "nbgrader": {
     "cell_type": "code",
     "checksum": "d9e6ba8d7a34f1ace2229c393e8e6a25",
     "grade": false,
     "grade_id": "cell-baee58223adff7b9",
     "locked": false,
     "schema_version": 3,
     "solution": true,
     "task": false
    }
   },
   "outputs": [],
   "source": [
    "p = 0.1587"
   ]
  },
  {
   "cell_type": "code",
   "execution_count": 9,
   "id": "e1e6fd9e-aace-490a-93b6-42141667aa4c",
   "metadata": {
    "deletable": false,
    "editable": false,
    "nbgrader": {
     "cell_type": "code",
     "checksum": "c462b2a8efc8dd10be868b3c4e0fffbb",
     "grade": true,
     "grade_id": "cell-7c90499c116c4de7",
     "locked": true,
     "points": 2,
     "schema_version": 3,
     "solution": false,
     "task": false
    }
   },
   "outputs": [],
   "source": [
    "assert isinstance(p, float)\n"
   ]
  }
 ],
 "metadata": {
  "kernelspec": {
   "display_name": "Python 3 (ipykernel)",
   "language": "python",
   "name": "python3"
  },
  "language_info": {
   "codemirror_mode": {
    "name": "ipython",
    "version": 3
   },
   "file_extension": ".py",
   "mimetype": "text/x-python",
   "name": "python",
   "nbconvert_exporter": "python",
   "pygments_lexer": "ipython3",
   "version": "3.13.0"
  }
 },
 "nbformat": 4,
 "nbformat_minor": 5
}
